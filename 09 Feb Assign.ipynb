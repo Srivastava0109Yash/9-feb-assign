{
 "cells": [
  {
   "cell_type": "markdown",
   "id": "0824d4c8",
   "metadata": {},
   "source": [
    "### Q1. Create a vehicle class with an init method having instance variables as name_of_vehicle, max_speed and average_of_vehicle."
   ]
  },
  {
   "cell_type": "code",
   "execution_count": 1,
   "id": "f32d28dc",
   "metadata": {},
   "outputs": [],
   "source": [
    "class vehicle :\n",
    "    \n",
    "    def __init__(self,name_of_vehicle,max_speed,average_of_vehicle):\n",
    "        \n",
    "        self.name_of_vehicle= name_of_vehicle\n",
    "        self.max_speed=max_speed\n",
    "        self.average_of_vehicle=average_of_vehicle\n",
    "        "
   ]
  },
  {
   "cell_type": "markdown",
   "id": "a5f1ee70",
   "metadata": {},
   "source": [
    "### Q2. Create a child class car from the vehicle class created in Que 1, which will inherit the vehicle class. Create a method named seating_capacity which takes capacity as an argument and returns the name of the vehicle and its seating capacity."
   ]
  },
  {
   "cell_type": "code",
   "execution_count": 2,
   "id": "694269f5",
   "metadata": {},
   "outputs": [],
   "source": [
    "class Vehicle:\n",
    "    def __init__(self, name_of_vehicle, max_speed, average_of_vehicle):\n",
    "        self.name_of_vehicle = name_of_vehicle\n",
    "        self.max_speed = max_speed\n",
    "        self.average_of_vehicle = average_of_vehicle\n",
    "\n",
    "class Car(Vehicle):\n",
    "    def seating_capacity(self, capacity):\n",
    "        return f\"{self.name_of_vehicle} seating capacity is {capacity}\"\n",
    "\n",
    "\n",
    "    "
   ]
  },
  {
   "cell_type": "code",
   "execution_count": 3,
   "id": "e2f25317",
   "metadata": {},
   "outputs": [],
   "source": [
    "abc=Car(\"Chevrolet Camaro\",250,12)"
   ]
  },
  {
   "cell_type": "code",
   "execution_count": 4,
   "id": "3d9200ea",
   "metadata": {},
   "outputs": [
    {
     "data": {
      "text/plain": [
       "'Chevrolet Camaro seating capacity is 4'"
      ]
     },
     "execution_count": 4,
     "metadata": {},
     "output_type": "execute_result"
    }
   ],
   "source": [
    "abc.seating_capacity(4)"
   ]
  },
  {
   "cell_type": "markdown",
   "id": "fa469803",
   "metadata": {},
   "source": [
    "### Q3. What is multiple inheritance? Write a python code to demonstrate multiple inheritance."
   ]
  },
  {
   "cell_type": "markdown",
   "id": "44d7c0a7",
   "metadata": {},
   "source": [
    "Multiple Inheritance: A subclass inherits from multiple superclasses.This allows a class to inherit attributes and                               methods from multiple sources."
   ]
  },
  {
   "cell_type": "code",
   "execution_count": 5,
   "id": "c25110df",
   "metadata": {},
   "outputs": [
    {
     "name": "stdout",
     "output_type": "stream",
     "text": [
      "Breathing\n",
      "Is Animal\n",
      "Is flying\n"
     ]
    },
    {
     "data": {
      "text/plain": [
       "'Korona'"
      ]
     },
     "execution_count": 5,
     "metadata": {},
     "output_type": "execute_result"
    }
   ],
   "source": [
    "class Biotic:\n",
    "    \n",
    "    def __init__(self,name):\n",
    "        self.name=name\n",
    "    \n",
    "    def breathe(self):\n",
    "        print(\"Breathing\")\n",
    "        \n",
    "class Mammal(Biotic):\n",
    "    \n",
    "    def Animal(self):\n",
    "        print(\"Is Animal\")\n",
    "        \n",
    "class WingedAnimal(Biotic):\n",
    "    \n",
    "    def fly(self):\n",
    "        print(\"Is flying\")\n",
    "        \n",
    "class Bat(Mammal,WingedAnimal):\n",
    "    pass\n",
    "\n",
    "\n",
    "bat=Bat(\"Korona\")\n",
    "\n",
    "bat.breathe()\n",
    "bat.Animal()\n",
    "bat.fly()\n",
    "bat.name"
   ]
  },
  {
   "cell_type": "markdown",
   "id": "bd8e76ae",
   "metadata": {},
   "source": [
    "### Q4. What are getter and setter in python? Create a class and create a getter and a setter method in this class."
   ]
  },
  {
   "cell_type": "markdown",
   "id": "00670ac4",
   "metadata": {},
   "source": [
    "Getters: It is a method used in OOPs which helps to access the private attribute from a class.\n",
    "\n",
    "Setters: These are the methods used in OOPS which helps to set the value to private attributes in a class."
   ]
  },
  {
   "cell_type": "code",
   "execution_count": 6,
   "id": "b5fd99e1",
   "metadata": {},
   "outputs": [],
   "source": [
    "class car:\n",
    "    \n",
    "    def __init__(self,year,make,model,speed):\n",
    "        \n",
    "        self.__year=year\n",
    "        self.__make=make\n",
    "        self.__model=model\n",
    "        self.__speed=180\n",
    "        \n",
    "        \n",
    "    # creating getter and setter:    \n",
    "    def set_speed(self,speed):\n",
    "        \n",
    "        self.__speed= 180 if speed<180 else speed\n",
    "        \n",
    "    def get_speed(self):\n",
    "        \n",
    "        return self.__speed"
   ]
  },
  {
   "cell_type": "code",
   "execution_count": 7,
   "id": "49e10bfb",
   "metadata": {},
   "outputs": [],
   "source": [
    "c=car(2021,'Chevrolet','Camaro',200)"
   ]
  },
  {
   "cell_type": "code",
   "execution_count": 8,
   "id": "018c7761",
   "metadata": {},
   "outputs": [
    {
     "data": {
      "text/plain": [
       "180"
      ]
     },
     "execution_count": 8,
     "metadata": {},
     "output_type": "execute_result"
    }
   ],
   "source": [
    "c.get_speed()"
   ]
  },
  {
   "cell_type": "code",
   "execution_count": 9,
   "id": "de0bfd0e",
   "metadata": {},
   "outputs": [],
   "source": [
    "c.set_speed(239)"
   ]
  },
  {
   "cell_type": "code",
   "execution_count": 10,
   "id": "0f31712b",
   "metadata": {},
   "outputs": [
    {
     "data": {
      "text/plain": [
       "239"
      ]
     },
     "execution_count": 10,
     "metadata": {},
     "output_type": "execute_result"
    }
   ],
   "source": [
    "c.get_speed()"
   ]
  },
  {
   "cell_type": "markdown",
   "id": "5afcce67",
   "metadata": {},
   "source": [
    "### Q5.What is method overriding in python? Write a python code to demonstrate method overriding."
   ]
  },
  {
   "cell_type": "markdown",
   "id": "fd6fec5e",
   "metadata": {},
   "source": [
    "Method overriding is an ability in OOPs that allows a subclass or child class to provide a specific implementation of a method that is already provided by one of its super-classes or parent classes"
   ]
  },
  {
   "cell_type": "code",
   "execution_count": 11,
   "id": "1c4e325c",
   "metadata": {},
   "outputs": [
    {
     "name": "stdout",
     "output_type": "stream",
     "text": [
      "Inside GrandChild\n",
      "Inside Child\n",
      "Inside Parent\n"
     ]
    }
   ],
   "source": [
    "class Parent(): \n",
    "        \n",
    "    def display(self):\n",
    "        print(\"Inside Parent\")\n",
    "    \n",
    "class Child(Parent): \n",
    "\n",
    "    def show1(self):\n",
    "        print(\"Inside Child\")\n",
    "\n",
    "class GrandChild(Child): \n",
    "          \n",
    "    def show2(self):\n",
    "        print(\"Inside GrandChild\")         \n",
    "    \n",
    "g = GrandChild()   \n",
    "g.show2()\n",
    "g.show1()\n",
    "g.display()"
   ]
  }
 ],
 "metadata": {
  "kernelspec": {
   "display_name": "Python 3 (ipykernel)",
   "language": "python",
   "name": "python3"
  },
  "language_info": {
   "codemirror_mode": {
    "name": "ipython",
    "version": 3
   },
   "file_extension": ".py",
   "mimetype": "text/x-python",
   "name": "python",
   "nbconvert_exporter": "python",
   "pygments_lexer": "ipython3",
   "version": "3.9.7"
  }
 },
 "nbformat": 4,
 "nbformat_minor": 5
}
